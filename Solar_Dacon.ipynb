{
 "cells": [
  {
   "cell_type": "code",
   "execution_count": null,
   "metadata": {},
   "outputs": [],
   "source": [
    "from tqdm import tqdm\n",
    "import pandas as pd\n",
    "import numpy as np\n",
    "import os\n",
    "import glob\n",
    "import random\n",
    "import xgboost as xgb\n",
    "from xgboost import XGBRegressor\n",
    "import lightgbm as lgb\n",
    "from lightgbm import LGBMRegressor\n",
    "from catboost import CatBoostRegressor\n",
    "from sklearn.model_selection import train_test_split\n",
    "from sklearn.model_selection import KFold, StratifiedKFold, RepeatedStratifiedKFold\n",
    "from sklearn.model_selection import GridSearchCV\n",
    "\n",
    "import warnings\n",
    "warnings.filterwarnings(\"ignore\")"
   ]
  },
  {
   "cell_type": "markdown",
   "metadata": {},
   "source": [
    "## Baseline"
   ]
  },
  {
   "cell_type": "code",
   "execution_count": null,
   "metadata": {},
   "outputs": [],
   "source": [
    "train = pd.read_csv('./data/train/train.csv')"
   ]
  },
  {
   "cell_type": "code",
   "execution_count": null,
   "metadata": {},
   "outputs": [],
   "source": [
    "train.tail()"
   ]
  },
  {
   "cell_type": "code",
   "execution_count": null,
   "metadata": {},
   "outputs": [],
   "source": [
    "submission = pd.read_csv('./data/sample_submission.csv')"
   ]
  },
  {
   "cell_type": "code",
   "execution_count": null,
   "metadata": {},
   "outputs": [],
   "source": [
    "submission.tail()"
   ]
  },
  {
   "cell_type": "code",
   "execution_count": null,
   "metadata": {
    "scrolled": true
   },
   "outputs": [],
   "source": [
    "def preprocess_data(data, is_train=True):\n",
    "    \n",
    "    temp = data.copy()\n",
    "    temp = temp[['Hour', 'TARGET', 'DHI', 'DNI', 'WS', 'RH', 'T']]\n",
    "\n",
    "    if is_train==True:          \n",
    "    \n",
    "        temp['Target1'] = temp['TARGET'].shift(-48).fillna(method='ffill') # shift(-48) -> 48개 행 위로; fillna -> 결측값을 앞 방향으로 채우기\n",
    "        temp['Target2'] = temp['TARGET'].shift(-48*2).fillna(method='ffill') # fillna -> 결측값을 앞 방향으로 채우기\n",
    "        temp = temp.dropna()\n",
    "        \n",
    "        return temp.iloc[:-96]\n",
    "\n",
    "    elif is_train==False:\n",
    "        \n",
    "        temp = temp[['Hour', 'TARGET', 'DHI', 'DNI', 'WS', 'RH', 'T']]\n",
    "                              \n",
    "        return temp.iloc[-48:, :]\n",
    "\n",
    "\n",
    "df_train = preprocess_data(train)\n",
    "df_train.iloc[:48]"
   ]
  },
  {
   "cell_type": "code",
   "execution_count": null,
   "metadata": {},
   "outputs": [],
   "source": [
    "df_test = []\n",
    "\n",
    "for i in range(81):\n",
    "    file_path = './data/test/' + str(i) + '.csv'\n",
    "    temp = pd.read_csv(file_path)\n",
    "    temp = preprocess_data(temp, is_train=False)\n",
    "    df_test.append(temp)\n",
    "\n",
    "X_test = pd.concat(df_test)\n",
    "X_test.shape"
   ]
  },
  {
   "cell_type": "code",
   "execution_count": null,
   "metadata": {},
   "outputs": [],
   "source": [
    "X_train_1, X_valid_1, Y_train_1, Y_valid_1 = train_test_split(df_train.iloc[:, :-2], df_train.iloc[:, -2], test_size=0.3, random_state=0)\n",
    "X_train_2, X_valid_2, Y_train_2, Y_valid_2 = train_test_split(df_train.iloc[:, :-2], df_train.iloc[:, -1], test_size=0.3, random_state=0)"
   ]
  },
  {
   "cell_type": "code",
   "execution_count": null,
   "metadata": {},
   "outputs": [],
   "source": [
    "quantiles = [0.1, 0.2, 0.3, 0.4, 0.5, 0.6, 0.7, 0.8, 0.9]"
   ]
  },
  {
   "cell_type": "code",
   "execution_count": null,
   "metadata": {},
   "outputs": [],
   "source": [
    "# CatBoost Regressor\n",
    "\n",
    "def catboost(q, X_train, Y_train, X_valid, Y_valid, X_test):\n",
    "    \n",
    "    cat_model = CatBoostRegressor(eval_metric = 'Quantile',\n",
    "                                  loss_function = f'Quantile:alpha={q}',\n",
    "                                  grow_policy = 'Depthwise',\n",
    "                                  random_seed = 2021,\n",
    "#                                   iterations = 6000,\n",
    "#                                   learning_rate = 0.01,\n",
    "                                  depth = 6,\n",
    "                                  early_stopping_rounds = 1000,\n",
    "                                  l2_leaf_reg = 30)\n",
    "    \n",
    "    parameters = {'iterations':[5000, 6000],\n",
    "                  'learning_rate':[0.01, 0.02]}\n",
    "    \n",
    "    grid_model = GridSearchCV(cat_model, param_grid=parameters,\n",
    "                              scoring='neg_mean_squared_error',\n",
    "                              cv=2)\n",
    "    \n",
    "    grid_model.fit(X_train, Y_train)\n",
    "    rmse = np.sqrt(-1 * grid_model.best_score_)\n",
    "    print('최적 평균 RMSE 값:', np.round(rmse, 4))\n",
    "    print('최적 파라미터:', grid_model.best_params_)\n",
    "    \n",
    "    model = grid_model.best_estimator_\n",
    "    \n",
    "    model.fit(X_train, Y_train,\n",
    "              eval_set = (X_valid, Y_valid), verbose = 500)\n",
    "    \n",
    "    pred = pd.Series(model.predict(X_test).round(2))\n",
    "    return pred, model\n",
    "    \n",
    "#     parameters = {'iterations':[2500, 3000, 3500, 4000],\n",
    "#                   'learning_rate':[0.01, 0.015, 0.02, 0.025, 0.03, 0.035],\n",
    "#                   'depth':[6, 10, 14, 18],\n",
    "#                   'metric_period':[80, 100, 120, 140],\n",
    "#                   'early_stopping_rounds':[150, 200, 250],\n",
    "#                   'l2_leaf_reg':[30, 40]\n",
    "#                  }\n",
    "#     cat_model.fit(X_train, Y_train, eval_set = (X_valid, Y_valid))\n",
    "    \n",
    "#     rmse = np.sqrt(-1 * cat_model)\n",
    "#     print('RMSE:', np.round(rmse, 4))\n",
    "\n",
    "#     pred = pd.Series(cat_model.predict(X_test).round(2))\n",
    "    \n",
    "#     return pred, cat_model"
   ]
  },
  {
   "cell_type": "code",
   "execution_count": null,
   "metadata": {},
   "outputs": [],
   "source": [
    "# Target 예측\n",
    "\n",
    "def train_data(X_train, Y_train, X_valid, Y_valid, X_test):\n",
    "    \n",
    "    cat_models = []\n",
    "    cat_actual_pred = pd.DataFrame()\n",
    "    \n",
    "    for q in quantiles:\n",
    "        print(q)\n",
    "        pred, model = catboost(q, X_train, Y_train, X_valid, Y_valid, X_test)\n",
    "        cat_models.append(model)\n",
    "        cat_actual_pred = pd.concat([cat_actual_pred, pred], axis = 1)\n",
    "    \n",
    "    cat_actual_pred.columns = quantiles\n",
    "    \n",
    "    return cat_models, cat_actual_pred"
   ]
  },
  {
   "cell_type": "code",
   "execution_count": null,
   "metadata": {},
   "outputs": [],
   "source": []
  },
  {
   "cell_type": "code",
   "execution_count": null,
   "metadata": {},
   "outputs": [],
   "source": [
    "# Target1\n",
    "models_1, results_1 = train_data(X_train_1, Y_train_1, X_valid_1, Y_valid_1, X_test)\n",
    "results_1.sort_index()[:48]"
   ]
  },
  {
   "cell_type": "code",
   "execution_count": null,
   "metadata": {},
   "outputs": [],
   "source": [
    "# Target2\n",
    "models_2, results_2 = train_data(X_train_2, Y_train_2, X_valid_2, Y_valid_2, X_test)\n",
    "results_2.sort_index()[:48]"
   ]
  },
  {
   "cell_type": "code",
   "execution_count": null,
   "metadata": {},
   "outputs": [],
   "source": [
    "print(results_1.shape, results_2.shape)"
   ]
  },
  {
   "cell_type": "code",
   "execution_count": null,
   "metadata": {},
   "outputs": [],
   "source": [
    "submission.loc[submission.id.str.contains(\"Day7\"), \"q_0.1\":] = results_1.sort_index().values\n",
    "submission.loc[submission.id.str.contains(\"Day8\"), \"q_0.1\":] = results_2.sort_index().values\n",
    "submission"
   ]
  },
  {
   "cell_type": "code",
   "execution_count": null,
   "metadata": {},
   "outputs": [],
   "source": [
    "submission.to_csv('./data/submission_yeonjung_cb_210208_v1.csv', index=False)"
   ]
  },
  {
   "cell_type": "code",
   "execution_count": null,
   "metadata": {},
   "outputs": [],
   "source": []
  }
 ],
 "metadata": {
  "kernelspec": {
   "display_name": "Python 3",
   "language": "python",
   "name": "python3"
  },
  "language_info": {
   "codemirror_mode": {
    "name": "ipython",
    "version": 3
   },
   "file_extension": ".py",
   "mimetype": "text/x-python",
   "name": "python",
   "nbconvert_exporter": "python",
   "pygments_lexer": "ipython3",
   "version": "3.7.9"
  }
 },
 "nbformat": 4,
 "nbformat_minor": 4
}
